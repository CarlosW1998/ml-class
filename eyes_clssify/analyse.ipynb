{
 "cells": [
  {
   "cell_type": "code",
   "execution_count": 160,
   "metadata": {},
   "outputs": [],
   "source": [
    "### keep the imports\n",
    "import pandas as pd\n",
    "from sklearn.neighbors import KNeighborsClassifier\n",
    "from sklearn.metrics import roc_auc_score, confusion_matrix\n",
    "from sklearn.neural_network import MLPClassifier\n",
    "from sklearn.ensemble import RandomForestClassifier\n",
    "from sklearn.preprocessing import normalize\n"
   ]
  },
  {
   "cell_type": "code",
   "execution_count": 168,
   "metadata": {},
   "outputs": [
    {
     "data": {
      "text/html": [
       "<div>\n",
       "<style scoped>\n",
       "    .dataframe tbody tr th:only-of-type {\n",
       "        vertical-align: middle;\n",
       "    }\n",
       "\n",
       "    .dataframe tbody tr th {\n",
       "        vertical-align: top;\n",
       "    }\n",
       "\n",
       "    .dataframe thead th {\n",
       "        text-align: right;\n",
       "    }\n",
       "</style>\n",
       "<table border=\"1\" class=\"dataframe\">\n",
       "  <thead>\n",
       "    <tr style=\"text-align: right;\">\n",
       "      <th></th>\n",
       "      <th>ACD</th>\n",
       "      <th>AL</th>\n",
       "      <th>WTW</th>\n",
       "      <th>K1</th>\n",
       "      <th>K2</th>\n",
       "      <th>Correto</th>\n",
       "    </tr>\n",
       "  </thead>\n",
       "  <tbody>\n",
       "    <tr>\n",
       "      <th>0</th>\n",
       "      <td>0.534146</td>\n",
       "      <td>0.336725</td>\n",
       "      <td>0.617647</td>\n",
       "      <td>0.685606</td>\n",
       "      <td>0.560130</td>\n",
       "      <td>1</td>\n",
       "    </tr>\n",
       "    <tr>\n",
       "      <th>1</th>\n",
       "      <td>0.551220</td>\n",
       "      <td>0.411656</td>\n",
       "      <td>0.705882</td>\n",
       "      <td>0.600649</td>\n",
       "      <td>0.541712</td>\n",
       "      <td>1</td>\n",
       "    </tr>\n",
       "    <tr>\n",
       "      <th>2</th>\n",
       "      <td>0.580488</td>\n",
       "      <td>0.410731</td>\n",
       "      <td>0.705882</td>\n",
       "      <td>0.643939</td>\n",
       "      <td>0.492958</td>\n",
       "      <td>1</td>\n",
       "    </tr>\n",
       "    <tr>\n",
       "      <th>3</th>\n",
       "      <td>0.446341</td>\n",
       "      <td>0.359852</td>\n",
       "      <td>0.617647</td>\n",
       "      <td>0.617965</td>\n",
       "      <td>0.481040</td>\n",
       "      <td>1</td>\n",
       "    </tr>\n",
       "    <tr>\n",
       "      <th>4</th>\n",
       "      <td>0.319512</td>\n",
       "      <td>0.430157</td>\n",
       "      <td>0.676471</td>\n",
       "      <td>0.545455</td>\n",
       "      <td>0.418202</td>\n",
       "      <td>1</td>\n",
       "    </tr>\n",
       "  </tbody>\n",
       "</table>\n",
       "</div>"
      ],
      "text/plain": [
       "        ACD        AL       WTW        K1        K2  Correto\n",
       "0  0.534146  0.336725  0.617647  0.685606  0.560130        1\n",
       "1  0.551220  0.411656  0.705882  0.600649  0.541712        1\n",
       "2  0.580488  0.410731  0.705882  0.643939  0.492958        1\n",
       "3  0.446341  0.359852  0.617647  0.617965  0.481040        1\n",
       "4  0.319512  0.430157  0.676471  0.545455  0.418202        1"
      ]
     },
     "execution_count": 168,
     "metadata": {},
     "output_type": "execute_result"
    }
   ],
   "source": [
    "# pre process and normalize\n",
    "# no missing data :)!!\n",
    "df = pd.read_csv(\"data.csv.data\")\n",
    "df = df[[\"ACD\", \"AL\", \"WTW\", \"K1\", \"K2\", \"Correto\"]]\n",
    "\n",
    "df[\"ACD\"] = df[\"ACD\"].apply(lambda x: x.replace(\",\", '.')).apply(float)\n",
    "df[\"AL\"] = df[\"AL\"].apply(lambda x: x.replace(\",\", '.')).apply(float)\n",
    "df[\"WTW\"] = df[\"WTW\"].apply(lambda x: x.replace(\",\", '.')).apply(float)\n",
    "df[\"K1\"] = df[\"K1\"].apply(lambda x: x.replace(\",\", '.')).apply(float)\n",
    "df[\"K2\"] = df[\"K2\"].apply(lambda x: x.replace(\",\", '.')).apply(float)\n",
    "df[\"Correto\"] = df[\"Correto\"].apply(lambda x: 1 if x == 'S'  else 0)\n",
    "\n",
    "\n",
    "columns = [\"ACD\", \"AL\", \"WTW\", \"K1\", \"K2\"]\n",
    "df[columns] = (df[columns]-df[columns].min())/(df[columns].max()-df[columns].min())\n",
    "# normalize(df[columns])\n",
    "df.head()\n",
    "# df.describe()"
   ]
  },
  {
   "cell_type": "code",
   "execution_count": 162,
   "metadata": {},
   "outputs": [
    {
     "data": {
      "text/plain": [
       "<Axes: ylabel='Frequency'>"
      ]
     },
     "execution_count": 162,
     "metadata": {},
     "output_type": "execute_result"
    },
    {
     "data": {
      "image/png": "[encoded data removed]",
      "text/plain": [
       "<Figure size 640x480 with 1 Axes>"
      ]
     },
     "metadata": {},
     "output_type": "display_data"
    }
   ],
   "source": [
    "#Just check balance and relation\n",
    "df['Correto'].plot(kind=\"hist\")\n",
    "# columns = [\"AL\", \"ACD\", \"WTW\", \"K1\", \"K2\"]\n",
    "\n",
    "# for c1 in columns:\n",
    "#     for c2 in columns:\n",
    "#         if c1 != c2:\n",
    "#             df.plot.scatter(x=c1, y=c2, c=df[\"Correto\"].apply(lambda x: \"green\" if x else \"red\"))\n",
    "\n",
    "# Great part of the outliers are 0, witch the database already have a small sample."
   ]
  },
  {
   "cell_type": "code",
   "execution_count": 163,
   "metadata": {},
   "outputs": [],
   "source": [
    "##get strat samples\n",
    "groups = df.groupby(\"Correto\")\n",
    "g0 = groups.get_group(0).sample(frac=1, replace=False)\n",
    "g1 = groups.get_group(1).sample(frac=1, replace=False)\n",
    "samples = []\n",
    "\n",
    "for i in range(5):\n",
    "    samples.append(pd.concat([g0[i*(len(g0)//5):(i+1)*(len(g0)//5)], g1[i*(len(g1)//5):(i+1)*(len(g1)//5)]]))\n",
    "\n",
    "samples, final_test = samples[:4], samples[4]\n",
    "\n"
   ]
  },
  {
   "cell_type": "code",
   "execution_count": 164,
   "metadata": {},
   "outputs": [],
   "source": [
    "def cross_validate(samples, model):\n",
    "    results = []\n",
    "    for i in range(len(samples)):\n",
    "\n",
    "        test = samples.pop(0)\n",
    "        train = pd.concat(samples)\n",
    "\n",
    "        model.fit(train[columns], train[\"Correto\"])\n",
    "\n",
    "        predict = model.predict(test[columns])\n",
    "\n",
    "        results.append(roc_auc_score(test[\"Correto\"], predict))\n",
    "        samples.append(test)\n",
    "    return results\n"
   ]
  },
  {
   "cell_type": "code",
   "execution_count": 165,
   "metadata": {},
   "outputs": [
    {
     "name": "stdout",
     "output_type": "stream",
     "text": [
      "[0.5068924261339992, 0.5145131086142323, 0.5254109446525177, 0.5382854764877237]\n",
      "0.5382854764877237\n",
      "184 69\n",
      "32 20\n"
     ]
    }
   ],
   "source": [
    "#kNN tests\n",
    "\n",
    "results = []\n",
    "n_neighbors = 5\n",
    "model = KNeighborsClassifier(n_neighbors=n_neighbors)\n",
    "results = cross_validate(samples, model)\n",
    "\n",
    "print(results)\n",
    "#  [\"ACD\", \"AL\", \"WTW\", \"K1\", \"K2\"]\n",
    "predict = model.predict(final_test[columns])\n",
    "print(roc_auc_score(final_test[\"Correto\"], predict))\n",
    "tn, fp, fn, tp = confusion_matrix(final_test[\"Correto\"], predict).ravel()\n",
    "# Increasse n_neighbors incriases tp and reduces fp and tn.\n",
    "print( tp, fp)\n",
    "print( fn, tn)\n",
    "\n"
   ]
  },
  {
   "cell_type": "code",
   "execution_count": 166,
   "metadata": {},
   "outputs": [
    {
     "name": "stdout",
     "output_type": "stream",
     "text": [
      "[0.4939918851435705, 0.5290522263836871, 0.5478828547648773, 0.5796140241364961]\n",
      "0.5382854764877237\n",
      "184 69\n",
      "32 20\n"
     ]
    }
   ],
   "source": [
    "#ID3 test\n",
    "results = []\n",
    "model = RandomForestClassifier()\n",
    "results = cross_validate(samples, model)\n",
    "\n",
    "print(results)\n",
    "\n",
    "predict = model.predict(final_test[columns])\n",
    "print(roc_auc_score(final_test[\"Correto\"], predict))\n",
    "tn, fp, fn, tp = confusion_matrix(final_test[\"Correto\"], predict).ravel()\n",
    "\n",
    "print( tp, fp)\n",
    "print( fn, tn)\n",
    "\n"
   ]
  },
  {
   "cell_type": "code",
   "execution_count": 167,
   "metadata": {},
   "outputs": [
    {
     "name": "stdout",
     "output_type": "stream",
     "text": [
      "[0.5175041614648356, 0.5469205160216396, 0.5132126508531003, 0.5079067831876821]\n",
      "0.5274136496046609\n",
      "206 80\n",
      "10 9\n"
     ]
    }
   ],
   "source": [
    "#ID3 test\n",
    "results = []\n",
    "model = MLPClassifier(solver='lbfgs', alpha=1e-5, hidden_layer_sizes=(10, 10),\n",
    "                    random_state=1, max_iter=20000, activation=\"relu\")\n",
    "results = cross_validate(samples, model)\n",
    "\n",
    "print(results)\n",
    "\n",
    "predict = model.predict(final_test[columns])\n",
    "print(roc_auc_score(final_test[\"Correto\"], predict))\n",
    "tn, fp, fn, tp = confusion_matrix(final_test[\"Correto\"], predict).ravel()\n",
    "\n",
    "print( tp, fp)\n",
    "print( fn, tn)\n",
    "\n"
   ]
  }
 ],
 "metadata": {
  "kernelspec": {
   "display_name": "Python 3",
   "language": "python",
   "name": "python3"
  },
  "language_info": {
   "codemirror_mode": {
    "name": "ipython",
    "version": 3
   },
   "file_extension": ".py",
   "mimetype": "text/x-python",
   "name": "python",
   "nbconvert_exporter": "python",
   "pygments_lexer": "ipython3",
   "version": "3.10.11"
  }
 },
 "nbformat": 4,
 "nbformat_minor": 2
}
