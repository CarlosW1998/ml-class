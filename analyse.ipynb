{
 "cells": [
  {
   "cell_type": "code",
   "execution_count": 63,
   "metadata": {},
   "outputs": [],
   "source": [
    "### keep the imports\n",
    "import pandas as pd\n",
    "from sklearn.neighbors import KNeighborsClassifier"
   ]
  },
  {
   "cell_type": "code",
   "execution_count": 64,
   "metadata": {},
   "outputs": [
    {
     "data": {
      "text/html": [
       "<div>\n",
       "<style scoped>\n",
       "    .dataframe tbody tr th:only-of-type {\n",
       "        vertical-align: middle;\n",
       "    }\n",
       "\n",
       "    .dataframe tbody tr th {\n",
       "        vertical-align: top;\n",
       "    }\n",
       "\n",
       "    .dataframe thead th {\n",
       "        text-align: right;\n",
       "    }\n",
       "</style>\n",
       "<table border=\"1\" class=\"dataframe\">\n",
       "  <thead>\n",
       "    <tr style=\"text-align: right;\">\n",
       "      <th></th>\n",
       "      <th>ACD</th>\n",
       "      <th>AL</th>\n",
       "      <th>WTW</th>\n",
       "      <th>K1</th>\n",
       "      <th>K2</th>\n",
       "      <th>Correto</th>\n",
       "    </tr>\n",
       "  </thead>\n",
       "  <tbody>\n",
       "    <tr>\n",
       "      <th>0</th>\n",
       "      <td>0.534146</td>\n",
       "      <td>0.336725</td>\n",
       "      <td>0.617647</td>\n",
       "      <td>0.685606</td>\n",
       "      <td>0.560130</td>\n",
       "      <td>1</td>\n",
       "    </tr>\n",
       "    <tr>\n",
       "      <th>1</th>\n",
       "      <td>0.551220</td>\n",
       "      <td>0.411656</td>\n",
       "      <td>0.705882</td>\n",
       "      <td>0.600649</td>\n",
       "      <td>0.541712</td>\n",
       "      <td>1</td>\n",
       "    </tr>\n",
       "    <tr>\n",
       "      <th>2</th>\n",
       "      <td>0.580488</td>\n",
       "      <td>0.410731</td>\n",
       "      <td>0.705882</td>\n",
       "      <td>0.643939</td>\n",
       "      <td>0.492958</td>\n",
       "      <td>1</td>\n",
       "    </tr>\n",
       "    <tr>\n",
       "      <th>3</th>\n",
       "      <td>0.446341</td>\n",
       "      <td>0.359852</td>\n",
       "      <td>0.617647</td>\n",
       "      <td>0.617965</td>\n",
       "      <td>0.481040</td>\n",
       "      <td>1</td>\n",
       "    </tr>\n",
       "    <tr>\n",
       "      <th>4</th>\n",
       "      <td>0.319512</td>\n",
       "      <td>0.430157</td>\n",
       "      <td>0.676471</td>\n",
       "      <td>0.545455</td>\n",
       "      <td>0.418202</td>\n",
       "      <td>1</td>\n",
       "    </tr>\n",
       "  </tbody>\n",
       "</table>\n",
       "</div>"
      ],
      "text/plain": [
       "        ACD        AL       WTW        K1        K2  Correto\n",
       "0  0.534146  0.336725  0.617647  0.685606  0.560130        1\n",
       "1  0.551220  0.411656  0.705882  0.600649  0.541712        1\n",
       "2  0.580488  0.410731  0.705882  0.643939  0.492958        1\n",
       "3  0.446341  0.359852  0.617647  0.617965  0.481040        1\n",
       "4  0.319512  0.430157  0.676471  0.545455  0.418202        1"
      ]
     },
     "execution_count": 64,
     "metadata": {},
     "output_type": "execute_result"
    }
   ],
   "source": [
    "# pre process and normalize\n",
    "# no missing data :)!!\n",
    "df = pd.read_csv(\"data.csv\")\n",
    "df = df[[\"ACD\", \"AL\", \"WTW\", \"K1\", \"K2\", \"Correto\"]]\n",
    "\n",
    "df[\"ACD\"] = df[\"ACD\"].apply(lambda x: x.replace(\",\", '.')).apply(float)\n",
    "df[\"ACD\"] = df[\"ACD\"].apply(lambda x: (x - df[\"ACD\"].min()) / (df[\"ACD\"].max() - df[\"ACD\"].min()))\n",
    "df[\"AL\"] = df[\"AL\"].apply(lambda x: x.replace(\",\", '.')).apply(float)\n",
    "df[\"AL\"] = df[\"AL\"].apply(lambda x: (x - df[\"AL\"].min()) / (df[\"AL\"].max() - df[\"AL\"].min()))\n",
    "df[\"WTW\"] = df[\"WTW\"].apply(lambda x: x.replace(\",\", '.')).apply(float)\n",
    "df[\"WTW\"] = df[\"WTW\"].apply(lambda x: (x - df[\"WTW\"].min()) / (df[\"WTW\"].max() - df[\"WTW\"].min()))\n",
    "df[\"K1\"] = df[\"K1\"].apply(lambda x: x.replace(\",\", '.')).apply(float)\n",
    "df[\"K1\"] = df[\"K1\"].apply(lambda x: (x - df[\"K1\"].min()) / (df[\"K1\"].max() - df[\"K1\"].min()))\n",
    "df[\"K2\"] = df[\"K2\"].apply(lambda x: x.replace(\",\", '.')).apply(float)\n",
    "df[\"K2\"] = df[\"K2\"].apply(lambda x: (x - df[\"K2\"].min()) / (df[\"K2\"].max() - df[\"K2\"].min()))\n",
    "df[\"Correto\"] = df[\"Correto\"].apply(lambda x: 1 if x == 'S'  else 0)\n",
    "\n",
    "df.head()\n",
    "# df.describe()"
   ]
  },
  {
   "cell_type": "code",
   "execution_count": 65,
   "metadata": {},
   "outputs": [
    {
     "data": {
      "text/plain": [
       "<Axes: ylabel='Frequency'>"
      ]
     },
     "execution_count": 65,
     "metadata": {},
     "output_type": "execute_result"
    },
    {
     "data": {
      "image/png": "[encoded data removed]",
      "text/plain": [
       "<Figure size 640x480 with 1 Axes>"
      ]
     },
     "metadata": {},
     "output_type": "display_data"
    }
   ],
   "source": [
    "df['Correto'].plot(kind=\"hist\")\n",
    "# columns = [\"AL\", \"ACD\", \"WTW\", \"K1\", \"K2\"]\n",
    "# for c1 in columns:\n",
    "#     for c2 in columns:\n",
    "#         if c1 != c2:\n",
    "#             df.plot.scatter(x=c1, y=c2, c=df[\"Correto\"].apply(lambda x: \"green\" if x else \"red\"))"
   ]
  },
  {
   "cell_type": "code",
   "execution_count": 66,
   "metadata": {},
   "outputs": [
    {
     "data": {
      "text/plain": [
       "[           ACD        AL       WTW        K1        K2  Correto\n",
       " 1421  0.312195  0.251619  0.558824  0.575216  0.489707        0\n",
       " 1169  0.631707  0.257169  0.500000  0.716991  0.598592        0\n",
       " 1320  0.397561  0.220167  0.705882  0.748377  0.618093        0\n",
       " 711   0.565854  0.434783  0.647059  0.673701  0.569881        0\n",
       " 851   0.663415  0.372803  0.823529  0.606061  0.466414        0\n",
       " ...        ...       ...       ...       ...       ...      ...\n",
       " 834   0.443902  0.289547  0.676471  0.667749  0.526002        1\n",
       " 934   0.482927  0.336725  0.647059  0.632035  0.531961        1\n",
       " 537   0.353659  0.276596  0.441176  0.652597  0.541712        1\n",
       " 101   0.497561  0.216466  0.735294  0.694805  0.556880        1\n",
       " 517   0.556098  0.128585  0.441176  0.891234  0.776273        1\n",
       " \n",
       " [305 rows x 6 columns],\n",
       "            ACD        AL       WTW        K1        K2  Correto\n",
       " 195   0.575610  0.333950  0.647059  0.745130  0.611593        0\n",
       " 1370  0.460976  0.126735  0.441176  0.845238  0.769231        0\n",
       " 1338  0.553659  0.448659  0.794118  0.595238  0.486999        0\n",
       " 582   0.431707  0.367253  0.558824  0.529221  0.385157        0\n",
       " 956   0.597561  0.270120  0.705882  0.713745  0.608342        0\n",
       " ...        ...       ...       ...       ...       ...      ...\n",
       " 1037  0.617073  0.296947  0.705882  0.661797  0.535211        1\n",
       " 650   0.543902  0.450509  0.676471  0.523810  0.393283        1\n",
       " 1411  0.553659  0.349676  0.529412  0.643939  0.495666        1\n",
       " 89    0.434146  0.276596  0.558824  0.710498  0.601842        1\n",
       " 64    0.375610  0.230342  0.500000  0.655844  0.547671        1\n",
       " \n",
       " [305 rows x 6 columns],\n",
       "            ACD        AL       WTW        K1        K2  Correto\n",
       " 279   0.431707  0.595745  0.735294  0.359848  0.368906        0\n",
       " 221   0.460976  0.151711  0.588235  0.821429  0.693391        0\n",
       " 1449  0.580488  0.376503  0.647059  0.626623  0.514085        0\n",
       " 506   0.348780  0.133210  0.235294  0.794372  0.645179        0\n",
       " 130   0.521951  0.700278  0.823529  0.548160  0.429036        0\n",
       " ...        ...       ...       ...       ...       ...      ...\n",
       " 542   0.480488  0.277521  0.470588  0.658550  0.618093        1\n",
       " 110   0.400000  0.204440  0.794118  0.567100  0.455038        1\n",
       " 781   0.475610  0.262720  0.588235  0.735931  0.621343        1\n",
       " 1008  0.568293  0.304348  0.911765  0.682900  0.579090        1\n",
       " 510   0.404878  0.283996  0.558824  0.658550  0.507584        1\n",
       " \n",
       " [305 rows x 6 columns],\n",
       "            ACD        AL       WTW        K1        K2  Correto\n",
       " 858   0.524390  0.227567  0.617647  0.713745  0.595341        0\n",
       " 753   0.609756  0.569843  0.941176  0.591991  0.529252        0\n",
       " 547   0.463415  0.334875  0.529412  0.600649  0.455038        0\n",
       " 1114  0.492683  0.292322  0.441176  0.701299  0.550921        0\n",
       " 936   0.470732  0.205365  0.470588  0.824675  0.703684        0\n",
       " ...        ...       ...       ...       ...       ...      ...\n",
       " 320   0.351220  0.208141  0.323529  0.873377  0.732394        1\n",
       " 666   0.443902  0.285846  0.676471  0.692100  0.569881        1\n",
       " 245   0.407317  0.262720  0.647059  0.589286  0.483749        1\n",
       " 1523  0.526829  0.293247  0.764706  0.661797  0.541712        1\n",
       " 1156  0.487805  0.166512  0.647059  0.632035  0.520043        1\n",
       " \n",
       " [305 rows x 6 columns],\n",
       "            ACD        AL       WTW        K1        K2  Correto\n",
       " 1248  0.397561  0.308973  0.500000  0.655844  0.556880        0\n",
       " 167   0.336585  0.279371  0.588235  0.688853  0.569881        0\n",
       " 468   0.421951  0.463460  0.500000  0.716991  0.645179        0\n",
       " 1499  0.390244  0.250694  0.617647  0.676948  0.526002        0\n",
       " 1190  0.568293  0.312673  0.558824  0.729437  0.608342        0\n",
       " ...        ...       ...       ...       ...       ...      ...\n",
       " 1245  0.451220  0.228492  0.705882  0.629329  0.483749        1\n",
       " 1380  0.460976  0.235893  0.500000  0.797619  0.693391        1\n",
       " 1302  0.448780  0.223867  0.529412  0.767857  0.631636        1\n",
       " 236   0.507317  0.402405  0.764706  0.732684  0.595341        1\n",
       " 968   0.460976  0.180389  0.558824  0.845238  0.699892        1\n",
       " \n",
       " [305 rows x 6 columns]]"
      ]
     },
     "execution_count": 66,
     "metadata": {},
     "output_type": "execute_result"
    }
   ],
   "source": [
    "##get strat samples\n",
    "groups = df.groupby(\"Correto\")\n",
    "g0 = groups.get_group(0).sample(frac=1, replace=False)\n",
    "g1 = groups.get_group(1).sample(frac=1, replace=False)\n",
    "samples = []\n",
    "\n",
    "for i in range(5):\n",
    "    samples.append(pd.concat([g0[i*(len(g0)//5):(i+1)*(len(g0)//5)], g1[i*(len(g1)//5):(i+1)*(len(g1)//5)]]))\n",
    "\n",
    "samples"
   ]
  },
  {
   "cell_type": "code",
   "execution_count": 67,
   "metadata": {},
   "outputs": [
    {
     "data": {
      "text/plain": [
       "0.6721311475409836"
      ]
     },
     "execution_count": 67,
     "metadata": {},
     "output_type": "execute_result"
    }
   ],
   "source": [
    "train, test = pd.concat(samples[:4]), samples[4]\n",
    "\n",
    "model = KNeighborsClassifier(n_neighbors=5)\n",
    "model.fit(train[[\"ACD\", \"AL\", \"WTW\", \"K1\", \"K2\"]], train[\"Correto\"])\n",
    "\n",
    "model.score(test[[\"ACD\", \"AL\", \"WTW\", \"K1\", \"K2\"]], test[\"Correto\"])\n",
    "\n",
    "\n"
   ]
  }
 ],
 "metadata": {
  "kernelspec": {
   "display_name": "Python 3",
   "language": "python",
   "name": "python3"
  },
  "language_info": {
   "codemirror_mode": {
    "name": "ipython",
    "version": 3
   },
   "file_extension": ".py",
   "mimetype": "text/x-python",
   "name": "python",
   "nbconvert_exporter": "python",
   "pygments_lexer": "ipython3",
   "version": "3.10.11"
  }
 },
 "nbformat": 4,
 "nbformat_minor": 2
}
